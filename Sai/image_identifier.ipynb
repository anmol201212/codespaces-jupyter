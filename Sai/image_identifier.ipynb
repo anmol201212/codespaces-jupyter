{
 "cells": [
  {
   "cell_type": "code",
   "execution_count": 1,
   "metadata": {},
   "outputs": [],
   "source": [
    "from pdf2image import convert_from_path\n",
    "import cv2\n",
    "import numpy as np\n"
   ]
  },
  {
   "cell_type": "code",
   "execution_count": 8,
   "metadata": {},
   "outputs": [
    {
     "name": "stdout",
     "output_type": "stream",
     "text": [
      "Total number of hollow circles: 43\n"
     ]
    }
   ],
   "source": [
    "from pdf2image import convert_from_path\n",
    "import cv2\n",
    "import numpy as np\n",
    "import matplotlib.pyplot as plt\n",
    "import os\n",
    "\n",
    "\n",
    "def count_hollow_circles(pdf_path, output_folder='circle_snippets'):\n",
    "    # Convert PDF to images\n",
    "    images = convert_from_path(pdf_path)\n",
    "\n",
    "    # Initialize a counter for hollow circles\n",
    "    total_hollow_circles = 0\n",
    "\n",
    "    # Create the output folder if it doesn't exist\n",
    "    os.makedirs(output_folder, exist_ok=True)\n",
    "\n",
    "    for page_number, image in enumerate(images):\n",
    "        # Convert the image to a NumPy array\n",
    "        np_image = np.array(image)\n",
    "\n",
    "        # Convert the image to grayscale\n",
    "        gray = cv2.cvtColor(np_image, cv2.COLOR_RGB2GRAY)\n",
    "        np_image1 = gray\n",
    "        # Apply GaussianBlur to reduce noise and improve circle detection\n",
    "        blurred = cv2.GaussianBlur(gray, (5, 5), 0)\n",
    "\n",
    "        # Use Hough Circle Transform to detect circles\n",
    "        circles = cv2.HoughCircles(\n",
    "            blurred,\n",
    "            cv2.HOUGH_GRADIENT,\n",
    "            dp=1,\n",
    "            minDist=20,\n",
    "            param1=50,\n",
    "            param2=30,\n",
    "            minRadius=10,\n",
    "            maxRadius=50\n",
    "        )\n",
    "\n",
    "        if circles is not None:\n",
    "            # Convert the circle coordinates to integers\n",
    "            circles = np.uint16(np.around(circles))\n",
    "\n",
    "            for i, circle in enumerate(circles[0, :]):\n",
    "                # Draw the circle on the image\n",
    "                cv2.circle(np_image, (circle[0], circle[1]), circle[2], (0, 255, 0), 2)\n",
    "\n",
    "                # Check if the circle is hollow (implement your logic here)\n",
    "                # For example, you can check if the average pixel intensity inside the circle is below a certain threshold\n",
    "                is_hollow = True  # Replace this with your actual logic\n",
    "\n",
    "                if is_hollow:\n",
    "                    total_hollow_circles += 1\n",
    "\n",
    "                    # Extract and save the circle snippet\n",
    "                    x, y, r = circle[0], circle[1], circle[2]\n",
    "                    circle_snippet = np_image[y - r:y + r, x - r:x + r]\n",
    "\n",
    "                    # Save the snippet as an image\n",
    "                    snippet_filename = f'{output_folder}/circle_snippet_{page_number}_{i}.png'\n",
    "                    cv2.imwrite(snippet_filename, circle_snippet)\n",
    "\n",
    "    return total_hollow_circles\n",
    "\n",
    "# Example usage\n",
    "pdf_path = 'one.pdf'\n",
    "hollow_circle_count = count_hollow_circles(pdf_path)\n",
    "print(f'Total number of hollow circles: {hollow_circle_count}')\n"
   ]
  },
  {
   "cell_type": "code",
   "execution_count": null,
   "metadata": {},
   "outputs": [],
   "source": []
  }
 ],
 "metadata": {
  "kernelspec": {
   "display_name": "Python 3",
   "language": "python",
   "name": "python3"
  },
  "language_info": {
   "codemirror_mode": {
    "name": "ipython",
    "version": 3
   },
   "file_extension": ".py",
   "mimetype": "text/x-python",
   "name": "python",
   "nbconvert_exporter": "python",
   "pygments_lexer": "ipython3",
   "version": "3.10.13"
  }
 },
 "nbformat": 4,
 "nbformat_minor": 2
}
