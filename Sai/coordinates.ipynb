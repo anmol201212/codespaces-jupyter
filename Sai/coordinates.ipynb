{
 "cells": [
  {
   "cell_type": "code",
   "execution_count": 2,
   "metadata": {},
   "outputs": [],
   "source": [
    "# pip install pymupdf ezdxf\n",
    "# pip install PyPDF2"
   ]
  },
  {
   "cell_type": "code",
   "execution_count": 10,
   "metadata": {},
   "outputs": [
    {
     "name": "stdout",
     "output_type": "stream",
     "text": [
      "None\n"
     ]
    }
   ],
   "source": [
    "import fitz  # PyMuPDF\n",
    "import ezdxf\n",
    "\n",
    "def extract_circle_coordinates(pdf_path):\n",
    "    doc = fitz.open(pdf_path)\n",
    "\n",
    "    for page_number in range(doc.page_count):\n",
    "        page = doc[page_number]\n",
    "\n",
    "        # Get page text\n",
    "        page_text = page.get_text(\"text\")\n",
    "\n",
    "        # Check if the page contains AutoCAD circles\n",
    "        if \"CIRCLE\" in page_text:\n",
    "            # Extract circles from the page\n",
    "            circles = extract_circles_from_dxf(page_text)\n",
    "\n",
    "            # Print circle coordinates\n",
    "            if circles:\n",
    "                print(f\"Circles on page {page_number + 1}:\")\n",
    "                for circle in circles:\n",
    "                    print(f\"Center: {circle.center}, Radius: {circle.radius}\")\n",
    "\n",
    "    doc.close()\n",
    "\n",
    "def extract_circles_from_dxf(dxf_text):\n",
    "    doc = ezdxf.readstring(dxf_text)\n",
    "\n",
    "    circles = []\n",
    "    for entity in doc.modelspace().query(\"CIRCLE\"):\n",
    "        center = entity.dxf.center\n",
    "        radius = entity.dxf.radius\n",
    "        circles.append({\"center\": center, \"radius\": radius})\n",
    "\n",
    "    return circles\n",
    "\n",
    "if __name__ == \"__main__\":\n",
    "    pdf_path = \"one.pdf\"\n",
    "    print(extract_circle_coordinates(pdf_path))\n"
   ]
  },
  {
   "cell_type": "code",
   "execution_count": 17,
   "metadata": {},
   "outputs": [
    {
     "name": "stdout",
     "output_type": "stream",
     "text": [
      "None\n"
     ]
    }
   ],
   "source": [
    "import PyPDF2\n",
    "\n",
    "def find_circle_coordinates(pdf_file):\n",
    "    with open(pdf_file, 'rb') as f:\n",
    "        reader = PyPDF2.PdfReader(f)\n",
    "        for page in reader.pages:\n",
    "            text = page.extract_text()\n",
    "            for line in text.splitlines():\n",
    "                if 'CIRCLE' in line:\n",
    "                    # Extract coordinates from the line\n",
    "                    coordinates = extract_coordinates(line)\n",
    "                    if coordinates:\n",
    "                        print(coordinates)\n",
    "\n",
    "def extract_coordinates(line):\n",
    "    # Regular expression to match coordinates\n",
    "    pattern = r'\\(([-\\d.]+), ([-\\d.]+), ([-\\d.]+)\\)'\n",
    "    matches = re.findall(pattern, line)\n",
    "    if matches:\n",
    "        return matches[0]\n",
    "    else:\n",
    "        return None\n",
    "\n",
    "if __name__ == '__main__':\n",
    "    pdf_file = 'one.pdf'\n",
    "    print(find_circle_coordinates(pdf_file))\n"
   ]
  },
  {
   "cell_type": "code",
   "execution_count": 20,
   "metadata": {},
   "outputs": [],
   "source": [
    "import fitz  # PyMuPDF\n",
    "import ezdxf\n",
    "\n",
    "def extract_circle_coordinates(pdf_path):\n",
    "    doc = fitz.open(pdf_path)\n",
    "\n",
    "    for page_number in range(doc.page_count):\n",
    "        page = doc[page_number]\n",
    "\n",
    "        # Get page text\n",
    "        page_text = page.get_text(\"text\")\n",
    "\n",
    "        # Check if the page contains AutoCAD circles\n",
    "        if \"CIRCLE\" in page_text:\n",
    "            # Extract circles from the page\n",
    "            circles = extract_circles_from_dxf(page_text)\n",
    "\n",
    "            # Print circle coordinates\n",
    "            if circles:\n",
    "                print(f\"Circles on page {page_number + 1}:\")\n",
    "                for i, circle in enumerate(circles, start=1):\n",
    "                    center_x, center_y = circle[\"center\"]\n",
    "                    radius = circle[\"radius\"]\n",
    "                    print(f\"Circle {i}: Center: ({center_x}, {center_y}), Radius: {radius}\")\n",
    "\n",
    "    doc.close()\n",
    "\n",
    "def extract_circles_from_dxf(dxf_text):\n",
    "    doc = ezdxf.readstring(dxf_text)\n",
    "\n",
    "    circles = []\n",
    "    for entity in doc.modelspace().query(\"CIRCLE\"):\n",
    "        center = entity.dxf.center\n",
    "        radius = entity.dxf.radius\n",
    "        circles.append({\"center\": center, \"radius\": radius})\n",
    "\n",
    "    return circles\n",
    "\n",
    "if __name__ == \"__main__\":\n",
    "    pdf_path = \"one.pdf\"\n",
    "    extract_circle_coordinates(pdf_path)\n"
   ]
  },
  {
   "cell_type": "code",
   "execution_count": 23,
   "metadata": {},
   "outputs": [],
   "source": [
    "def extract_circles_from_dxf(dxf_text):\n",
    "    doc = ezdxf.readstring(dxf_text)\n",
    "\n",
    "    circles = []\n",
    "    for entity in doc.modelspace().query(\"CIRCLE\"):\n",
    "        center = entity.dxf.center\n",
    "        radius = entity.dxf.radius\n",
    "        circles.append({\"center\": center, \"radius\": radius})\n",
    "\n",
    "    return circles\n",
    "\n",
    "if __name__ == \"__main__\":\n",
    "    pdf_path = \"two.pdf\"\n",
    "    doc = fitz.open(pdf_path)\n",
    "\n",
    "    for page_number in range(doc.page_count):\n",
    "        page = doc[page_number]\n",
    "\n",
    "        # Get page text\n",
    "        page_text = page.get_text(\"text\")\n",
    "\n",
    "        # Check if the page contains AutoCAD circles\n",
    "        if \"CIRCLE\" in page_text:\n",
    "            print(f\"Found circles on page {page_number + 1}\")\n",
    "            # Extract circles from the page\n",
    "            circles = extract_circles_from_dxf(page_text)\n",
    "\n",
    "            # Print circle coordinates\n",
    "            if circles:\n",
    "                print(f\"Circles on page {page_number + 1}:\")\n",
    "                for i, circle in enumerate(circles, start=1):\n",
    "                    center_x, center_y = circle[\"center\"]\n",
    "                    radius = circle[\"radius\"]\n",
    "                    print(f\"Circle {i}: Center: ({center_x}, {center_y}), Radius: {radius}\")\n",
    "            else:\n",
    "                print(\"No circles found on this page\")\n",
    "\n",
    "    doc.close()\n"
   ]
  },
  {
   "cell_type": "code",
   "execution_count": 24,
   "metadata": {},
   "outputs": [
    {
     "name": "stdout",
     "output_type": "stream",
     "text": [
      "Page 1 text:\n",
      "\n"
     ]
    }
   ],
   "source": [
    "import fitz  # PyMuPDF\n",
    "\n",
    "def extract_circle_coordinates(pdf_path):\n",
    "    doc = fitz.open(pdf_path)\n",
    "\n",
    "    for page_number in range(doc.page_count):\n",
    "        page = doc[page_number]\n",
    "\n",
    "        # Get page text\n",
    "        page_text = page.get_text(\"text\")\n",
    "\n",
    "        # Print the extracted text\n",
    "        print(f\"Page {page_number + 1} text:\")\n",
    "        print(page_text)\n",
    "\n",
    "        # Check if the page contains AutoCAD circles\n",
    "        if \"CIRCLE\" in page_text:\n",
    "            print(f\"Found circles on page {page_number + 1}\")\n",
    "\n",
    "    doc.close()\n",
    "\n",
    "if __name__ == \"__main__\":\n",
    "    pdf_path = \"two.pdf\"\n",
    "    extract_circle_coordinates(pdf_path)\n"
   ]
  },
  {
   "cell_type": "code",
   "execution_count": 1,
   "metadata": {},
   "outputs": [
    {
     "ename": "PDFInfoNotInstalledError",
     "evalue": "Unable to get page count. Is poppler installed and in PATH?",
     "output_type": "error",
     "traceback": [
      "\u001b[1;31m---------------------------------------------------------------------------\u001b[0m",
      "\u001b[1;31mFileNotFoundError\u001b[0m                         Traceback (most recent call last)",
      "File \u001b[1;32mc:\\Users\\116317\\AppData\\Local\\Programs\\Python\\Python311\\Lib\\site-packages\\pdf2image\\pdf2image.py:568\u001b[0m, in \u001b[0;36mpdfinfo_from_path\u001b[1;34m(pdf_path, userpw, ownerpw, poppler_path, rawdates, timeout)\u001b[0m\n\u001b[0;32m    567\u001b[0m     env[\u001b[39m\"\u001b[39m\u001b[39mLD_LIBRARY_PATH\u001b[39m\u001b[39m\"\u001b[39m] \u001b[39m=\u001b[39m poppler_path \u001b[39m+\u001b[39m \u001b[39m\"\u001b[39m\u001b[39m:\u001b[39m\u001b[39m\"\u001b[39m \u001b[39m+\u001b[39m env\u001b[39m.\u001b[39mget(\u001b[39m\"\u001b[39m\u001b[39mLD_LIBRARY_PATH\u001b[39m\u001b[39m\"\u001b[39m, \u001b[39m\"\u001b[39m\u001b[39m\"\u001b[39m)\n\u001b[1;32m--> 568\u001b[0m proc \u001b[39m=\u001b[39m Popen(command, env\u001b[39m=\u001b[39;49menv, stdout\u001b[39m=\u001b[39;49mPIPE, stderr\u001b[39m=\u001b[39;49mPIPE)\n\u001b[0;32m    570\u001b[0m \u001b[39mtry\u001b[39;00m:\n",
      "File \u001b[1;32mc:\\Users\\116317\\AppData\\Local\\Programs\\Python\\Python311\\Lib\\subprocess.py:1026\u001b[0m, in \u001b[0;36mPopen.__init__\u001b[1;34m(self, args, bufsize, executable, stdin, stdout, stderr, preexec_fn, close_fds, shell, cwd, env, universal_newlines, startupinfo, creationflags, restore_signals, start_new_session, pass_fds, user, group, extra_groups, encoding, errors, text, umask, pipesize, process_group)\u001b[0m\n\u001b[0;32m   1023\u001b[0m             \u001b[39mself\u001b[39m\u001b[39m.\u001b[39mstderr \u001b[39m=\u001b[39m io\u001b[39m.\u001b[39mTextIOWrapper(\u001b[39mself\u001b[39m\u001b[39m.\u001b[39mstderr,\n\u001b[0;32m   1024\u001b[0m                     encoding\u001b[39m=\u001b[39mencoding, errors\u001b[39m=\u001b[39merrors)\n\u001b[1;32m-> 1026\u001b[0m     \u001b[39mself\u001b[39;49m\u001b[39m.\u001b[39;49m_execute_child(args, executable, preexec_fn, close_fds,\n\u001b[0;32m   1027\u001b[0m                         pass_fds, cwd, env,\n\u001b[0;32m   1028\u001b[0m                         startupinfo, creationflags, shell,\n\u001b[0;32m   1029\u001b[0m                         p2cread, p2cwrite,\n\u001b[0;32m   1030\u001b[0m                         c2pread, c2pwrite,\n\u001b[0;32m   1031\u001b[0m                         errread, errwrite,\n\u001b[0;32m   1032\u001b[0m                         restore_signals,\n\u001b[0;32m   1033\u001b[0m                         gid, gids, uid, umask,\n\u001b[0;32m   1034\u001b[0m                         start_new_session, process_group)\n\u001b[0;32m   1035\u001b[0m \u001b[39mexcept\u001b[39;00m:\n\u001b[0;32m   1036\u001b[0m     \u001b[39m# Cleanup if the child failed starting.\u001b[39;00m\n",
      "File \u001b[1;32mc:\\Users\\116317\\AppData\\Local\\Programs\\Python\\Python311\\Lib\\subprocess.py:1538\u001b[0m, in \u001b[0;36mPopen._execute_child\u001b[1;34m(self, args, executable, preexec_fn, close_fds, pass_fds, cwd, env, startupinfo, creationflags, shell, p2cread, p2cwrite, c2pread, c2pwrite, errread, errwrite, unused_restore_signals, unused_gid, unused_gids, unused_uid, unused_umask, unused_start_new_session, unused_process_group)\u001b[0m\n\u001b[0;32m   1537\u001b[0m \u001b[39mtry\u001b[39;00m:\n\u001b[1;32m-> 1538\u001b[0m     hp, ht, pid, tid \u001b[39m=\u001b[39m _winapi\u001b[39m.\u001b[39;49mCreateProcess(executable, args,\n\u001b[0;32m   1539\u001b[0m                              \u001b[39m# no special security\u001b[39;49;00m\n\u001b[0;32m   1540\u001b[0m                              \u001b[39mNone\u001b[39;49;00m, \u001b[39mNone\u001b[39;49;00m,\n\u001b[0;32m   1541\u001b[0m                              \u001b[39mint\u001b[39;49m(\u001b[39mnot\u001b[39;49;00m close_fds),\n\u001b[0;32m   1542\u001b[0m                              creationflags,\n\u001b[0;32m   1543\u001b[0m                              env,\n\u001b[0;32m   1544\u001b[0m                              cwd,\n\u001b[0;32m   1545\u001b[0m                              startupinfo)\n\u001b[0;32m   1546\u001b[0m \u001b[39mfinally\u001b[39;00m:\n\u001b[0;32m   1547\u001b[0m     \u001b[39m# Child is launched. Close the parent's copy of those pipe\u001b[39;00m\n\u001b[0;32m   1548\u001b[0m     \u001b[39m# handles that only the child should have open.  You need\u001b[39;00m\n\u001b[1;32m   (...)\u001b[0m\n\u001b[0;32m   1551\u001b[0m     \u001b[39m# pipe will not close when the child process exits and the\u001b[39;00m\n\u001b[0;32m   1552\u001b[0m     \u001b[39m# ReadFile will hang.\u001b[39;00m\n",
      "\u001b[1;31mFileNotFoundError\u001b[0m: [WinError 2] The system cannot find the file specified",
      "\nDuring handling of the above exception, another exception occurred:\n",
      "\u001b[1;31mPDFInfoNotInstalledError\u001b[0m                  Traceback (most recent call last)",
      "\u001b[1;32mc:\\Users\\116317\\Desktop\\Sai\\coordinates.ipynb Cell 7\u001b[0m line \u001b[0;36m2\n\u001b[0;32m     <a href='vscode-notebook-cell:/c%3A/Users/116317/Desktop/Sai/coordinates.ipynb#W6sZmlsZQ%3D%3D?line=25'>26</a>\u001b[0m \u001b[39mif\u001b[39;00m \u001b[39m__name__\u001b[39m \u001b[39m==\u001b[39m \u001b[39m\"\u001b[39m\u001b[39m__main__\u001b[39m\u001b[39m\"\u001b[39m:\n\u001b[0;32m     <a href='vscode-notebook-cell:/c%3A/Users/116317/Desktop/Sai/coordinates.ipynb#W6sZmlsZQ%3D%3D?line=26'>27</a>\u001b[0m     pdf_path \u001b[39m=\u001b[39m \u001b[39m\"\u001b[39m\u001b[39mone.pdf\u001b[39m\u001b[39m\"\u001b[39m\n\u001b[1;32m---> <a href='vscode-notebook-cell:/c%3A/Users/116317/Desktop/Sai/coordinates.ipynb#W6sZmlsZQ%3D%3D?line=27'>28</a>\u001b[0m     extract_circle_coordinates(pdf_path)\n",
      "\u001b[1;32mc:\\Users\\116317\\Desktop\\Sai\\coordinates.ipynb Cell 7\u001b[0m line \u001b[0;36m6\n\u001b[0;32m      <a href='vscode-notebook-cell:/c%3A/Users/116317/Desktop/Sai/coordinates.ipynb#W6sZmlsZQ%3D%3D?line=4'>5</a>\u001b[0m \u001b[39mdef\u001b[39;00m \u001b[39mextract_circle_coordinates\u001b[39m(pdf_path):\n\u001b[1;32m----> <a href='vscode-notebook-cell:/c%3A/Users/116317/Desktop/Sai/coordinates.ipynb#W6sZmlsZQ%3D%3D?line=5'>6</a>\u001b[0m     images \u001b[39m=\u001b[39m convert_from_path(pdf_path)\n\u001b[0;32m      <a href='vscode-notebook-cell:/c%3A/Users/116317/Desktop/Sai/coordinates.ipynb#W6sZmlsZQ%3D%3D?line=7'>8</a>\u001b[0m     \u001b[39mfor\u001b[39;00m page_number, image \u001b[39min\u001b[39;00m \u001b[39menumerate\u001b[39m(images, start\u001b[39m=\u001b[39m\u001b[39m1\u001b[39m):\n\u001b[0;32m      <a href='vscode-notebook-cell:/c%3A/Users/116317/Desktop/Sai/coordinates.ipynb#W6sZmlsZQ%3D%3D?line=8'>9</a>\u001b[0m         \u001b[39m# Convert the image to grayscale\u001b[39;00m\n\u001b[0;32m     <a href='vscode-notebook-cell:/c%3A/Users/116317/Desktop/Sai/coordinates.ipynb#W6sZmlsZQ%3D%3D?line=9'>10</a>\u001b[0m         gray \u001b[39m=\u001b[39m cv2\u001b[39m.\u001b[39mcvtColor(np\u001b[39m.\u001b[39marray(image), cv2\u001b[39m.\u001b[39mCOLOR_BGR2GRAY)\n",
      "File \u001b[1;32mc:\\Users\\116317\\AppData\\Local\\Programs\\Python\\Python311\\Lib\\site-packages\\pdf2image\\pdf2image.py:127\u001b[0m, in \u001b[0;36mconvert_from_path\u001b[1;34m(pdf_path, dpi, output_folder, first_page, last_page, fmt, jpegopt, thread_count, userpw, ownerpw, use_cropbox, strict, transparent, single_file, output_file, poppler_path, grayscale, size, paths_only, use_pdftocairo, timeout, hide_annotations)\u001b[0m\n\u001b[0;32m    124\u001b[0m \u001b[39mif\u001b[39;00m \u001b[39misinstance\u001b[39m(poppler_path, PurePath):\n\u001b[0;32m    125\u001b[0m     poppler_path \u001b[39m=\u001b[39m poppler_path\u001b[39m.\u001b[39mas_posix()\n\u001b[1;32m--> 127\u001b[0m page_count \u001b[39m=\u001b[39m pdfinfo_from_path(\n\u001b[0;32m    128\u001b[0m     pdf_path, userpw, ownerpw, poppler_path\u001b[39m=\u001b[39;49mpoppler_path\n\u001b[0;32m    129\u001b[0m )[\u001b[39m\"\u001b[39m\u001b[39mPages\u001b[39m\u001b[39m\"\u001b[39m]\n\u001b[0;32m    131\u001b[0m \u001b[39m# We start by getting the output format, the buffer processing function and if we need pdftocairo\u001b[39;00m\n\u001b[0;32m    132\u001b[0m parsed_fmt, final_extension, parse_buffer_func, use_pdfcairo_format \u001b[39m=\u001b[39m _parse_format(\n\u001b[0;32m    133\u001b[0m     fmt, grayscale\n\u001b[0;32m    134\u001b[0m )\n",
      "File \u001b[1;32mc:\\Users\\116317\\AppData\\Local\\Programs\\Python\\Python311\\Lib\\site-packages\\pdf2image\\pdf2image.py:594\u001b[0m, in \u001b[0;36mpdfinfo_from_path\u001b[1;34m(pdf_path, userpw, ownerpw, poppler_path, rawdates, timeout)\u001b[0m\n\u001b[0;32m    591\u001b[0m     \u001b[39mreturn\u001b[39;00m d\n\u001b[0;32m    593\u001b[0m \u001b[39mexcept\u001b[39;00m \u001b[39mOSError\u001b[39;00m:\n\u001b[1;32m--> 594\u001b[0m     \u001b[39mraise\u001b[39;00m PDFInfoNotInstalledError(\n\u001b[0;32m    595\u001b[0m         \u001b[39m\"\u001b[39m\u001b[39mUnable to get page count. Is poppler installed and in PATH?\u001b[39m\u001b[39m\"\u001b[39m\n\u001b[0;32m    596\u001b[0m     )\n\u001b[0;32m    597\u001b[0m \u001b[39mexcept\u001b[39;00m \u001b[39mValueError\u001b[39;00m:\n\u001b[0;32m    598\u001b[0m     \u001b[39mraise\u001b[39;00m PDFPageCountError(\n\u001b[0;32m    599\u001b[0m         \u001b[39mf\u001b[39m\u001b[39m\"\u001b[39m\u001b[39mUnable to get page count.\u001b[39m\u001b[39m\\n\u001b[39;00m\u001b[39m{\u001b[39;00merr\u001b[39m.\u001b[39mdecode(\u001b[39m'\u001b[39m\u001b[39mutf8\u001b[39m\u001b[39m'\u001b[39m,\u001b[39m \u001b[39m\u001b[39m'\u001b[39m\u001b[39mignore\u001b[39m\u001b[39m'\u001b[39m)\u001b[39m}\u001b[39;00m\u001b[39m\"\u001b[39m\n\u001b[0;32m    600\u001b[0m     )\n",
      "\u001b[1;31mPDFInfoNotInstalledError\u001b[0m: Unable to get page count. Is poppler installed and in PATH?"
     ]
    }
   ],
   "source": [
    "import cv2\n",
    "import numpy as np\n",
    "from pdf2image import convert_from_path\n",
    "\n",
    "def extract_circle_coordinates(pdf_path):\n",
    "    images = convert_from_path(pdf_path)\n",
    "\n",
    "    for page_number, image in enumerate(images, start=1):\n",
    "        # Convert the image to grayscale\n",
    "        gray = cv2.cvtColor(np.array(image), cv2.COLOR_BGR2GRAY)\n",
    "\n",
    "        # Apply Hough Circle Transform to detect circles\n",
    "        circles = cv2.HoughCircles(\n",
    "            gray, \n",
    "            cv2.HOUGH_GRADIENT, dp=1, minDist=20, param1=50, param2=30, minRadius=5, maxRadius=50\n",
    "        )\n",
    "\n",
    "        # Print circle coordinates\n",
    "        if circles is not None:\n",
    "            print(f\"Circles on page {page_number}:\")\n",
    "            for i, circle in enumerate(circles[0, :], start=1):\n",
    "                center_x, center_y = int(circle[0]), int(circle[1])\n",
    "                radius = int(circle[2])\n",
    "                print(f\"Circle {i}: Center: ({center_x}, {center_y}), Radius: {radius}\")\n",
    "\n",
    "if __name__ == \"__main__\":\n",
    "    pdf_path = \"one.pdf\"\n",
    "    extract_circle_coordinates(pdf_path)\n"
   ]
  },
  {
   "cell_type": "code",
   "execution_count": null,
   "metadata": {},
   "outputs": [],
   "source": []
  }
 ],
 "metadata": {
  "kernelspec": {
   "display_name": "Python 3",
   "language": "python",
   "name": "python3"
  },
  "language_info": {
   "codemirror_mode": {
    "name": "ipython",
    "version": 3
   },
   "file_extension": ".py",
   "mimetype": "text/x-python",
   "name": "python",
   "nbconvert_exporter": "python",
   "pygments_lexer": "ipython3",
   "version": "3.10.13"
  }
 },
 "nbformat": 4,
 "nbformat_minor": 2
}
